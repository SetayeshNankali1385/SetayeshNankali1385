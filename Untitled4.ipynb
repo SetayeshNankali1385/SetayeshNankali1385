{
  "nbformat": 4,
  "nbformat_minor": 0,
  "metadata": {
    "colab": {
      "provenance": [],
      "mount_file_id": "1o5qItCMSglz8K51jX02NTrFecCSfDejs",
      "authorship_tag": "ABX9TyNpgLVgYOL4fhT6AuQTEv9v",
      "include_colab_link": true
    },
    "kernelspec": {
      "name": "python3",
      "display_name": "Python 3"
    },
    "language_info": {
      "name": "python"
    }
  },
  "cells": [
    {
      "cell_type": "markdown",
      "metadata": {
        "id": "view-in-github",
        "colab_type": "text"
      },
      "source": [
        "<a href=\"https://colab.research.google.com/github/SetayeshNankali1385/SetayeshNankali1385/blob/main/Untitled4.ipynb\" target=\"_parent\"><img src=\"https://colab.research.google.com/assets/colab-badge.svg\" alt=\"Open In Colab\"/></a>"
      ]
    },
    {
      "cell_type": "code",
      "execution_count": null,
      "metadata": {
        "colab": {
          "base_uri": "https://localhost:8080/"
        },
        "id": "MDFtyE5ZObd4",
        "outputId": "3c66ed25-46ff-4894-8973-c0e2b890f17c"
      },
      "outputs": [
        {
          "output_type": "stream",
          "name": "stdout",
          "text": [
            "800\n",
            "160068\n",
            "435200000\n"
          ]
        }
      ],
      "source": [
        "a =   20\n",
        "b =   40\n",
        "c = a*b\n",
        "print    (   c   )\n",
        "a =   200\n",
        "d=   68\n",
        "print    (   a*c+d   )\n",
        "a=   8000\n",
        "e =a*d*c\n",
        "print    (   e   )"
      ]
    }
  ]
}